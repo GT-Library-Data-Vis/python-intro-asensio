{
 "cells": [
  {
   "cell_type": "code",
   "execution_count": null,
   "metadata": {
    "id": "FtSBPHNzsN2u"
   },
   "outputs": [],
   "source": [
    "# Welcome to Introduction to Python\n",
    "# Raven Davis\n",
    "# raven.davis@library.gatech.edu\n",
    "# Jay Forrest\n",
    "# jay.forrest@library.gatech.edu\n",
    "\n",
    "# Resources\n",
    "# GT Library: www.library.gatech.edu\n",
    "# Anaconda Distribution: www.anaconda.com\n",
    "# Datacamp:  www.datacamp.com\n",
    "# Lynda: lynda.gatech.edu\n",
    "\n",
    "\n",
    "# Objectives\n",
    "# Learn basics of python programming\n",
    "# Explore common functions in Pandas and NumPy for data wrangling\n",
    "# Create data visualizations using Seaborn\n",
    "# Use python to do natural language processing"
   ]
  },
  {
   "cell_type": "code",
   "execution_count": null,
   "metadata": {
    "id": "iOGkByrR5Agp"
   },
   "outputs": [],
   "source": [
    "# Why Python?\n",
    "# --- Popular language for data analysis, data science, and general programming\n",
    "# --- Helps to create reproducible workflows to make research and analysis more efficient (modularize code, big data, etc.)\n",
    "\n",
    "# Why Colab?\n",
    "# --- Colab is cloud-based python notebook\n",
    "# --- Don't have to install any software\n",
    "# --- Can easily collaborate and ensure everyone has same version"
   ]
  },
  {
   "cell_type": "code",
   "execution_count": null,
   "metadata": {
    "id": "IJzwmCV62f7C"
   },
   "outputs": [],
   "source": [
    "# Colab navigation\n",
    "\n",
    "# Comments use pound sign\n",
    "\n",
    "# '+Code' to add code cell\n",
    "\n",
    "# Play button to run code\n",
    "\n",
    "# '+ Text' adds markdown cell"
   ]
  },
  {
   "cell_type": "code",
   "execution_count": null,
   "metadata": {
    "id": "oRIipwsYEOk0"
   },
   "outputs": [],
   "source": [
    "# Data Types\n",
    "# numeric types: ints (integers), floats (decimals), strings (characters)\n",
    "# sequence types: lists, tuples, dictionaries, sets\n",
    "# other: booleans, None\n",
    "# Pandas and NumPy have their own unique data types"
   ]
  },
  {
   "cell_type": "code",
   "execution_count": null,
   "metadata": {
    "id": "0hOHeSgAsN2x"
   },
   "outputs": [],
   "source": [
    "# loading standard libraries\n",
    "# import [library name] as [alias]\n",
    "import numpy as np\n",
    "import pandas as pd\n",
    "import matplotlib.pyplot as plt\n",
    "import seaborn as sns"
   ]
  },
  {
   "cell_type": "code",
   "execution_count": null,
   "metadata": {
    "id": "2tTIB0uqE_UF"
   },
   "outputs": [],
   "source": [
    "# Functions\n",
    "# [function name](argument)\n",
    "# There are many built-in functions in Python\n",
    "# You can also create your own function\n",
    "\n",
    "# Help\n",
    "help(str)"
   ]
  },
  {
   "cell_type": "code",
   "execution_count": null,
   "metadata": {
    "id": "1mrNQEBysN2x"
   },
   "outputs": [],
   "source": [
    "# Variables\n",
    "# variables are names given to values\n",
    "# the \"=\" assigns a value to a variable name\n",
    "# variable names are case-sensitive and can't begin with a number\n",
    "\n",
    "a = 5 # the number 5 is assigned to the variable name 'a'\n",
    "a"
   ]
  },
  {
   "cell_type": "code",
   "execution_count": null,
   "metadata": {
    "id": "Xcr1R90R5-gI"
   },
   "outputs": [],
   "source": [
    "print(a)\n",
    "b = 5\n",
    "print(b)\n",
    "a = 2\n",
    "print(a)\n",
    "b = a\n",
    "print(b)"
   ]
  },
  {
   "cell_type": "code",
   "execution_count": null,
   "metadata": {
    "id": "iEbMeQ4p5wSd"
   },
   "outputs": [],
   "source": [
    "# What data type is a?\n",
    "# type(a)"
   ]
  },
  {
   "cell_type": "code",
   "execution_count": null,
   "metadata": {
    "id": "GUdDzvJwBJLJ"
   },
   "outputs": [],
   "source": [
    "# Print\n",
    "# print() is a built-in Python function\n",
    "# print() allows you to print objects to display a Python object in your output cell\n",
    "a = 5\n",
    "print(a)\n",
    "print(\"Hello\")\n",
    "print(type(a))\n",
    "print(type(\"Hello\")) # \"Hello\" is a string data type"
   ]
  },
  {
   "cell_type": "code",
   "execution_count": null,
   "metadata": {
    "id": "0nnUmBUTsN2y"
   },
   "outputs": [],
   "source": [
    "#Numeric Operations +, -, *, /, **, %\n",
    "print(a+2)\n",
    "print(a)\n",
    "\n",
    "print('Exponent: ' +str(25**2)) # '+' sign allows you to concatenate strings\n",
    "print('Modulus: ' + str(25%2))\n",
    "print('Division: ' + str(25/2))"
   ]
  },
  {
   "cell_type": "code",
   "execution_count": null,
   "metadata": {
    "id": "5Itg6yoSqkqY"
   },
   "outputs": [],
   "source": [
    "# booleans\n",
    "print(True)\n",
    "print(False)\n",
    "print(True or False)\n",
    "print(True and False)\n",
    "print(not False)\n",
    "\n",
    "# Comparison Operators\n",
    "\n",
    "# equal to\n",
    "# print(a==5)\n",
    "# # not equal to\n",
    "# print(a!=5)\n",
    "# # greater than and less than\n",
    "# b = 7\n",
    "# print(a > b)\n",
    "# print(a < b)\n",
    "\n"
   ]
  },
  {
   "cell_type": "code",
   "execution_count": null,
   "metadata": {
    "id": "m0H-80rzsN2y"
   },
   "outputs": [],
   "source": [
    "# if/elif/else\n",
    "\n",
    "if a == 5:\n",
    "  print(\"a = 5\")\n",
    "else:\n",
    "  print(\"a does not equal 5\")\n",
    "\n",
    "if b < a:\n",
    "   print(\"b is less than a\")\n",
    "elif b == a:\n",
    "   print(\"b is equal to a\")\n",
    "else:\n",
    "   print(\"b is not greater than a\")"
   ]
  },
  {
   "cell_type": "code",
   "execution_count": null,
   "metadata": {
    "id": "I72s8O-HlmCz"
   },
   "outputs": [],
   "source": [
    "# Lists allow you to store multiple items in the same variable\n",
    "a = 'brown'\n",
    "b = 'fox'\n",
    "my_list = ['the', 'quick',  a , b]\n",
    "print(my_list)"
   ]
  },
  {
   "cell_type": "code",
   "execution_count": null,
   "metadata": {
    "id": "h6j66WG8sN2y"
   },
   "outputs": [],
   "source": [
    "# List Operations\n",
    "# my_list * 2\n",
    "# # # Length\n",
    "# len(my_list)\n",
    "# # # Index\n",
    "# my_list[1]\n",
    "# # Slice (inclusive start | exclusive end)\n",
    "# my_list[0:2]\n",
    "#my_list[:-2]\n",
    "# my_list[0:2]\n",
    "# my_list2 = [[1,2,3,4] + [5,6,7,8]]\n",
    "# my_list2\n",
    "# my_list2[0]\n",
    "# my_list2[0][2]\n",
    "# my_list3 = [[1,2,3,4] , [5,6,7,8]]\n",
    "# # How many elements does the outer list have?\n",
    "# # How many elements does each inner list have?\n",
    "# my_list3[0]\n",
    "# my_list3[0][2]"
   ]
  },
  {
   "cell_type": "code",
   "execution_count": null,
   "metadata": {
    "id": "ydA0vXUvxFa1"
   },
   "outputs": [],
   "source": [
    "# Dictionary Operations\n",
    "my_dict = {\"first\": \"a\", \"second\": 5, 6:[8,9,10]}\n",
    "# print(my_dict[\"first\"])\n",
    "# # print(my_dict[6])\n",
    "# print(my_dict[6][1])\n",
    "# my_dict.keys()\n",
    "# my_dict.values()\n",
    "# my_dict.items()\n",
    "# my_dict\n",
    "# my_dict.items()"
   ]
  },
  {
   "cell_type": "code",
   "execution_count": null,
   "metadata": {
    "id": "4rPV4gOTqi0J"
   },
   "outputs": [],
   "source": [
    "# loops\n",
    "a = 2\n",
    "b = 5\n",
    "\n",
    "# while a < b:\n",
    "#   a = a + 1\n",
    "#   print(\"a is still less than b\")\n",
    "\n",
    "# # Using the range function for loops\n",
    "\n",
    "# range(0,10)\n",
    "# list(range(0,10))\n",
    "\n",
    "# # For Loops\n",
    "# for i in range(10):\n",
    "#   print(i)\n",
    "# for i in range(len(my_list)):\n",
    "#   print(i)\n",
    "# for element in my_list:\n",
    "#   print(element)\n",
    "# for keys in my_dict:\n",
    "#   print(keys)\n",
    "# for keys in my_dict.keys():\n",
    "#   print(keys)\n",
    "# for values in my_dict.values():\n",
    "#   print(values)\n",
    "# for all in my_dict.items():\n",
    "#   print(all)\n",
    "# for keys, values in my_dict.items():\n",
    "#   print(keys)\n",
    "#   print(values)"
   ]
  },
  {
   "cell_type": "code",
   "execution_count": null,
   "metadata": {
    "id": "rkSwPgKzxIDC"
   },
   "outputs": [],
   "source": [
    "# Creating a function\n",
    "def print_element(lst):\n",
    "  for element in lst:\n",
    "    print(element)\n",
    "  return(\"Finished\")\n",
    "\n",
    "print_element(my_list)"
   ]
  },
  {
   "cell_type": "code",
   "execution_count": null,
   "metadata": {
    "id": "EwhOCC74AdeI"
   },
   "outputs": [],
   "source": [
    "# NumPy\n",
    "# -- faster than Python's native data structures\n",
    "# -- can create multidimensional arrays\n",
    "# -- can create specific matrices\n",
    "# -- all elements must be the same data type (unlike dictionaries and lists)\n",
    "# -- once created, size of array can't change"
   ]
  },
  {
   "cell_type": "code",
   "execution_count": null,
   "metadata": {
    "id": "ZEM5Px5dsN20"
   },
   "outputs": [],
   "source": [
    "# Arrays\n",
    "\n",
    "# # Creating arrays\n",
    "# my_array = np.array(my_list3[0][0:4]) # from a list\n",
    "# my_array\n",
    "# my_array = np.array([0,3,4,8]) # without a list\n",
    "# print(my_array)\n",
    "# # An array of zeros\n",
    "# np.zeros(2) # an array of zeros\n",
    "# np.zeros((3,4)) # a zero matrix\n",
    "# # An array of ones\n",
    "# np.ones((2,4))\n",
    "# # An empty array\n",
    "# ## np.empty((3,3))\n",
    "# # An array of random numbers\n",
    "# # np.random.randint(0,10, 1)\n",
    "\n",
    "# # # Indexing and Slicing\n",
    "# my_array[0]\n",
    "# # my_array[1:3]\n",
    "# # print(my_list3)\n",
    "# # print(my_array[0,1])\n",
    "# # print(my_array[0,1:3])\n",
    "\n",
    "# # Array Attributes\n",
    "# my_array.ndim\n",
    "# # my_array.shape\n",
    "# # my_array.size\n",
    "# # my_array.dtype\n",
    "\n",
    "# # Array Operations\n",
    "# my_array + np.ones(4) # addition\n",
    "# # my_array * np.ones(4) # multiplication\n",
    "# my_array * 5 # broadcasting\n",
    "\n",
    "# # Masking\n",
    "# my_array > 2\n",
    "# mask = my_array > 2\n",
    "# my_array[mask]"
   ]
  },
  {
   "cell_type": "code",
   "execution_count": null,
   "metadata": {
    "id": "nUq_nwW7MibJ"
   },
   "outputs": [],
   "source": [
    "# Pandas\n",
    "# https://pandas.pydata.org/docs/reference/index.html\n",
    "# -- popular package for handling data in Python"
   ]
  },
  {
   "cell_type": "code",
   "execution_count": null,
   "metadata": {
    "id": "dD5jOIaTMnFn"
   },
   "outputs": [],
   "source": [
    "#  Behavioral Risk Factor Surveillance System (BRFSS) \n",
    "# Health-related survey collected annually by the CDC. Collects data from over 400,000 Americans every year on health-related risk behaviors, \n",
    "# chronic health conditions, and preventative health. \n",
    "# We will explore the dataset and examine what risk factors are the most predictive of diabetes risk.\n",
    "\n",
    "# Key variables\n",
    "# Diabetes_012: 0 for no diabetes or only during pregnancy, 1 for prediabetes, 2 for diabetes\n",
    "# HighBP: 0 for no high BP, 1 for high BP\n",
    "# HighChol: 0 for no high cholesterol, 1 for high cholesterol\n",
    "# CholCheck: 0 for no cholesterol check in 5 years, 1 for yes cholesterol check in 5 years\n",
    "# BMI: Body Mass Index\n",
    "# PhysActivity: physical activity in past 30 days (not including job), 0 for no, 1 for yes\n",
    "# Fruits: consume fruit 1 or more times a day, 0 for no, 1 for yes\n",
    "# NoDocbcCost: Was there a time in the past 12 months when you needed to see a doctor but could not because of cost? 0 for no, 1 for yes\n",
    "# GenHlth: Would you say in general that your health  is 1=excellent, 2=very good, 3=good, 4=fair, 5=poor\n",
    "# Education: 1=Never attend school, 2=Grades 1-8, 3=Grades 9-11, 4=Grade 12 or GED, 5=College 1 year to 3 years, 6=College 4 years or more\n",
    "# Income: 1= less than 10,000, 5=less than 35,000, 8=75,000 or more\n",
    "# AnyHealthcare: Having any kind of healthcare, 0 for no, 1 for yes\n",
    "# PhysHlth: How many days during past 30 day was your physical health no good? Scale is from 1 to 30\n"
   ]
  },
  {
   "cell_type": "code",
   "execution_count": null,
   "metadata": {
    "id": "AUTMHGF3sN21",
    "scrolled": true
   },
   "outputs": [],
   "source": [
    "# Data Frames\n",
    "# Load csv\n",
    "url=\"https://raw.githubusercontent.com/GT-Library-Data-Vis/python-intro-asensio/refs/heads/master/diabetes_012_health_indicators_BRFSS2015.csv\"\n",
    "# diabetes_df = pd.read_csv('/content/diabetes_012_health_indicators_BRFSS2015.csv', nrows=6, header=0, index_col=0) # load a portion of dataset\n",
    "# diabetes_df\n",
    "\n",
    "diabetes_df = pd.read_csv(url) # load entire dataset\n",
    "# diabetes_df\n",
    "\n",
    "diabetes_df.head(7) # get first few rows, defaults to 5\n",
    "diabetes_df.tail() # get last few rows\n",
    "diabetes_df.shape[0] # number of rows\n",
    "diabetes_df.shape[1] # number of columns\n",
    "print(diabetes_df.columns) # columns in dataset\n",
    "\n",
    "# Indexing and slicing\n",
    "diabetes_df[\"GenHlth\"]# selecting one column\n",
    "diabetes_df.GenHlth # selecting one column\n",
    "diabetes_df[[\"GenHlth\", \"BMI\", \"Stroke\"]] # selecting multiple columns\n",
    "diabetes_df.loc[:5, \"GenHlth\"] # slicing with loc\n",
    "diabetes_df.iloc[0:10, 5:8] # slicing with iloc\n",
    "diabetes_df.iloc[0,2] #specific value\n",
    "\n",
    "# Descriptive Statistics\n",
    "print(diabetes_df.describe()) # descriptive statistics for numeric columns\n",
    "len(diabetes_df) # length\n",
    "diabetes_df[\"BMI\"].median() # median\n",
    "diabetes_df[\"PhysHlth\"].mean()# mean\n",
    "diabetes_df[\"HighBP\"].count() # count\n",
    "diabetes_df[\"HighBP\"].sum() # sum"
   ]
  },
  {
   "cell_type": "code",
   "execution_count": null,
   "metadata": {
    "id": "E5EEN_-OX9ls"
   },
   "outputs": [],
   "source": [
    "# groupby\n",
    "diabetes_df.groupby(\"Diabetes_012\").count()\n",
    "diabetes_df.groupby([\"HighBP\", \"Diabetes_012\"]).count()\n",
    "diabetes_df[[\"HighBP\", \"Diabetes_012\"]].groupby(\"Diabetes_012\").count()"
   ]
  },
  {
   "cell_type": "code",
   "execution_count": null,
   "metadata": {
    "id": "MFqXUgOBHeKo"
   },
   "outputs": [],
   "source": [
    "# Boolean indexing\n",
    "diabetes_df[\"PhysHlth\"] > 15\n",
    "diabetes_df[\"HighChol\"] == 1.0\n",
    "diabetes_df[diabetes_df[\"PhysHlth\"] > 15]\n",
    "\n",
    "# mask\n",
    "diabetes_df[diabetes_df['Diabetes_012'] == 2.0] # subset dataframe to only include records where person experienced stroke\n",
    "mask = diabetes_df['Diabetes_012'] == 2.0\n",
    "diabetes_data = diabetes_df[mask] # save new subsetted dataset to a new variable\n",
    "diabetes_data = diabetes_df[mask].reset_index(drop=True) # reset the index and drop the previous index\n",
    "mask = (diabetes_df['Diabetes_012'] == 1.0) | (diabetes_df[\"Diabetes_012\"] == 2.0)\n",
    "diabetes_data = diabetes_df[mask].reset_index(drop=True)\n",
    "diabetes_data.head()"
   ]
  },
  {
   "cell_type": "code",
   "execution_count": null,
   "metadata": {
    "id": "Jl5waNfMaCtS"
   },
   "outputs": [],
   "source": [
    "# Useful operations\n",
    "\n",
    "# sort values\n",
    "diabetes_data.sort_values(by=\"BMI\")\n",
    "\n",
    "# max\n",
    "diabetes_data[\"BMI\"].max()\n",
    "\n",
    "# unique\n",
    "diabetes_data[\"Education\"].unique()\n",
    "# # rename\n",
    "diabetes_data.rename(columns={\"Diabetes_012\": \"Diabetes\"})"
   ]
  },
  {
   "cell_type": "code",
   "execution_count": null,
   "metadata": {
    "id": "gDyJ_VlxH2_i"
   },
   "outputs": [],
   "source": [
    "# Pivot Tables\n",
    "pd.pivot_table(diabetes_df, values = ['PhysHlth'],\n",
    "                           index = ['Income'],\n",
    "                           columns = ['Diabetes_012'])\n"
   ]
  },
  {
   "cell_type": "code",
   "execution_count": null,
   "metadata": {
    "id": "-4ouG-9taU-T"
   },
   "outputs": [],
   "source": [
    "# Applying functions\n",
    "\n",
    "diabetes_df.apply(np.mean, axis=0)\n",
    "diabetes_df[\"BMI\"].apply(lambda x: int(x)) #lambda function"
   ]
  },
  {
   "cell_type": "code",
   "execution_count": null,
   "metadata": {
    "id": "w1fwzbz--H3w"
   },
   "outputs": [],
   "source": [
    "# Data Visualization\n",
    "# https://seaborn.pydata.org/api.html\n",
    "sns.set(rc={'figure.figsize':(10, 6)}) # make grid 10 x 6\n",
    "# Bar Chart\n",
    "sns.barplot(x=\"Income\",\n",
    "            y = \"PhysHlth\",\n",
    "            hue = \"Education\",\n",
    "            data = diabetes_df)"
   ]
  },
  {
   "cell_type": "code",
   "execution_count": null,
   "metadata": {
    "id": "i_Gmt78lXqqi"
   },
   "outputs": [],
   "source": [
    "sns.barplot(data = diabetes_df,\n",
    "            x=\"Income\",\n",
    "            y = \"PhysHlth\",\n",
    "            hue = \"Education\",\n",
    "            palette = \"deep\") # change color palette"
   ]
  },
  {
   "cell_type": "code",
   "execution_count": null,
   "metadata": {
    "id": "CvqynR9Ed3sL"
   },
   "outputs": [],
   "source": [
    "sns.barplot(data = diabetes_df,\n",
    "            x=\"Income\",\n",
    "            y = \"PhysHlth\",\n",
    "            hue = \"Education\",\n",
    "            palette = \"deep\",\n",
    "            errorbar = None) # remove error bars"
   ]
  },
  {
   "cell_type": "code",
   "execution_count": null,
   "metadata": {
    "id": "j8k0afVoebx2"
   },
   "outputs": [],
   "source": [
    "ax = sns.barplot(data = diabetes_df,\n",
    "            x=\"Income\",\n",
    "            y = \"PhysHlth\",\n",
    "            hue = \"Education\",\n",
    "            palette = \"deep\",\n",
    "            errorbar = None)\n",
    "\n",
    "ax.set(title=\"Diabetes by Income and Education Level\", ylabel=\"Diabetes\") # add title and axis labels using the barplot object\n",
    "plt.show() # use plt.show to show updated graph"
   ]
  },
  {
   "cell_type": "code",
   "execution_count": null,
   "metadata": {
    "id": "dQEBTZCGsN22"
   },
   "outputs": [],
   "source": [
    "# Histogram\n",
    "sns.histplot(data=diabetes_df, x=\"BMI\")"
   ]
  },
  {
   "cell_type": "code",
   "execution_count": null,
   "metadata": {
    "id": "9Mp7xUX1jB9Y"
   },
   "outputs": [],
   "source": [
    "sns.histplot(data=diabetes_df, x=\"BMI\",\n",
    "             bins=50) # change number of bins"
   ]
  },
  {
   "cell_type": "code",
   "execution_count": null,
   "metadata": {
    "id": "so-tLA66jLTb"
   },
   "outputs": [],
   "source": [
    "sns.histplot(data=diabetes_df, x=\"BMI\",\n",
    "             bins=40,\n",
    "             hue=\"Diabetes_012\") # add hue dimension to show income"
   ]
  },
  {
   "cell_type": "code",
   "execution_count": null,
   "metadata": {
    "id": "Hwx_NnEijxY0"
   },
   "outputs": [],
   "source": [
    "sns.histplot(data=diabetes_df, x=\"BMI\",\n",
    "             bins=40,\n",
    "             hue=\"Diabetes_012\",\n",
    "             log_scale = True) # use log scaling to normalize the distribution of values"
   ]
  },
  {
   "cell_type": "code",
   "execution_count": null,
   "metadata": {
    "id": "il4khKmbj1Hz"
   },
   "outputs": [],
   "source": [
    "sns.histplot(data=diabetes_df, x=\"BMI\",\n",
    "             bins=40,\n",
    "             hue=\"Diabetes_012\",\n",
    "             log_scale = True,\n",
    "             palette = \"deep\") # change the color palette"
   ]
  },
  {
   "cell_type": "code",
   "execution_count": null,
   "metadata": {},
   "outputs": [],
   "source": []
  }
 ],
 "metadata": {
  "colab": {
   "provenance": []
  },
  "kernelspec": {
   "display_name": "Python 3 (ipykernel)",
   "language": "python",
   "name": "python3"
  },
  "language_info": {
   "codemirror_mode": {
    "name": "ipython",
    "version": 3
   },
   "file_extension": ".py",
   "mimetype": "text/x-python",
   "name": "python",
   "nbconvert_exporter": "python",
   "pygments_lexer": "ipython3",
   "version": "3.12.4"
  }
 },
 "nbformat": 4,
 "nbformat_minor": 4
}
